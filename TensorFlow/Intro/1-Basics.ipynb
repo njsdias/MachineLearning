{
 "cells": [
  {
   "cell_type": "markdown",
   "metadata": {},
   "source": [
    "### Creating Tensors"
   ]
  },
  {
   "cell_type": "markdown",
   "metadata": {},
   "source": [
    "We must note that the tensor object is a symbolic handle for the result of an operation, so it\n",
    "doesn't hold the resulting values of the structures it contains. For this reason, **we must run the\n",
    "eval() method to get the actual values**, which is the equivalent to Session.run(tensor_to_eval).\n",
    "\n",
    "In this example, we build two numpy arrays, and convert them to tensors.\n",
    "\n",
    "**Note:** tf.convert_to_tensor: This function converts Python objects of various types to tensor\n",
    "objects. It accepts tensorobjects, numpy arrays, Python lists, and Python scalars."
   ]
  },
  {
   "cell_type": "code",
   "execution_count": 1,
   "metadata": {},
   "outputs": [
    {
     "name": "stdout",
     "output_type": "stream",
     "text": [
      "Tensor(\"Const:0\", shape=(2, 3), dtype=float32)\n",
      "[[1. 2. 3.]\n",
      " [3. 2. 6.]]\n"
     ]
    }
   ],
   "source": [
    "import tensorflow as tf                               # we import tensorflow\n",
    "import numpy as np                                    # we import numpy\n",
    "\n",
    "\n",
    "                                \n",
    "sess = tf.Session()                                   # start a new Session Object\n",
    "sess.run(tf.global_variables_initializer())\n",
    "\n",
    "x_data = np.array([[1.,2.,3.],[3.,2.,6.]])            # 2x3 matrix\n",
    " \n",
    "x = tf.convert_to_tensor(x_data, dtype=tf.float32)    # Finally, we create the tensor, \n",
    "                                                      # starting from the fload 3x matrix\n",
    "    \n",
    "print(x)                                              # print the shape of the tensor\n",
    "print(sess.run(x))                                    # print the values of the tensor  \n",
    "\n",
    "sess.close()                                          # end the Session Object"
   ]
  },
  {
   "cell_type": "markdown",
   "metadata": {},
   "source": [
    "When talking about running TensorFlow Sessions in an **interactive manner**, it's better to\n",
    "employ the InteractiveSession object.\n",
    "Unlike the normal tf.Session class, the **tf.InteractiveSession class** installs itself as the\n",
    "default session on construction. So when you try to eval a tensor, or run an operation, **it will\n",
    "not be necessary to pass a Session object to indicate which session it refers to.**"
   ]
  },
  {
   "cell_type": "markdown",
   "metadata": {},
   "source": [
    "**Feeding the tensor**\n",
    "\n",
    "The feed mechanism for patching a tensor directly into any operation in the graph.\n",
    "A feed temporarily replaces the output of an operation with a tensor value.\n",
    "The feed is only used for the run call to which it is passed.\n",
    "The most common use case involves designating specific operations to be feed operations by\n",
    "using tf.placeholder() to create them."
   ]
  },
  {
   "cell_type": "markdown",
   "metadata": {},
   "source": [
    "**Variables**\n",
    "For machine learning applications of TensorFlow, the parameters of the model are typically stored in\n",
    "tensors held in variables, and are updated when running the training graph for the model.\n",
    "\n",
    "To initialize a variable, simply call the Variable object constructor, with a tensor as a\n",
    "parameter. In this example, we initialize some variables with an array of 1000 zeros:\n",
    "\n",
    "    b = tf.Variable(tf.zeros([1000]))"
   ]
  },
  {
   "cell_type": "markdown",
   "metadata": {},
   "source": [
    "**Sessions**\n",
    "\n",
    "The Session object is a representation of the environment in which the computation will run. The Session object starts empty, and when the programmer creates the different operations and tensors,\n",
    "they will be added automatically to the Session, which will do no computation until the Run() method is called.\n",
    "A session is created by:\n",
    "\n",
    "       s = tf.Session()"
   ]
  },
  {
   "cell_type": "markdown",
   "metadata": {},
   "source": []
  }
 ],
 "metadata": {
  "kernelspec": {
   "display_name": "Python 3",
   "language": "python",
   "name": "python3"
  },
  "language_info": {
   "codemirror_mode": {
    "name": "ipython",
    "version": 3
   },
   "file_extension": ".py",
   "mimetype": "text/x-python",
   "name": "python",
   "nbconvert_exporter": "python",
   "pygments_lexer": "ipython3",
   "version": "3.6.8"
  }
 },
 "nbformat": 4,
 "nbformat_minor": 2
}
