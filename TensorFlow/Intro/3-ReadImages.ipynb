{
 "cells": [
  {
   "cell_type": "markdown",
   "metadata": {},
   "source": [
    "**Read Images**"
   ]
  },
  {
   "cell_type": "code",
   "execution_count": 1,
   "metadata": {},
   "outputs": [],
   "source": [
    "import tensorflow as tf\n",
    "import numpy as np\n",
    "import os"
   ]
  },
  {
   "cell_type": "code",
   "execution_count": 18,
   "metadata": {},
   "outputs": [
    {
     "name": "stdout",
     "output_type": "stream",
     "text": [
      "(?, ?, 3)\n"
     ]
    }
   ],
   "source": [
    "sess = tf.Session()\n",
    "filenames = ['/data/blue_jay.jpg']\n",
    "filename_queue = tf.train.string_input_producer(filenames)\n",
    "\n",
    "#tf.data.Dataset.map(tf.read_file)\n",
    "reader = tf.WholeFileReader()\n",
    "key, value = reader.read(filename_queue)\n",
    "\n",
    "image = tf.image.decode_jpeg(value, channels=3)\n",
    "print(image.shape)\n",
    "\n"
   ]
  },
  {
   "cell_type": "code",
   "execution_count": null,
   "metadata": {},
   "outputs": [],
   "source": [
    "flipImageUpDown=tf.image.encode_jpeg(tf.image.flip_up_down(image))\n",
    "flipImageLeftRight=tf.image.encode_jpeg(tf.image.flip_left_right(image))\n",
    "#tf.initialize_all_variables().run(session=sess)\n",
    "coord = tf.train.Coordinator()\n",
    "threads = tf.train.start_queue_runners(coord=coord, sess=sess)\n",
    "example = sess.run(flipImageLeftRight)\n",
    "print(example)\n",
    "file=open (\"flippedUpDown.jpg\", \"wb+\")\n",
    "file.write (flipImageUpDown.eval(session=sess))\n",
    "file.close()\n",
    "file=open (\"flippedLeftRight.jpg\", \"wb+\")\n",
    "file.write (flipImageLeftRight.eval(session=sess))\n",
    "file.close()"
   ]
  },
  {
   "cell_type": "code",
   "execution_count": null,
   "metadata": {},
   "outputs": [],
   "source": []
  },
  {
   "cell_type": "code",
   "execution_count": null,
   "metadata": {},
   "outputs": [],
   "source": []
  },
  {
   "cell_type": "code",
   "execution_count": null,
   "metadata": {},
   "outputs": [],
   "source": [
    "# Make a queue of file names including all the JPEG images files in the relative\n",
    "# image directory.\n",
    "filename_queue = tf.train.string_input_producer(\n",
    "    tf.train.match_filenames_once(\"./data/*.jpg\"))\n",
    "\n",
    "# Read an entire image file which is required since they're JPEGs, if the images\n",
    "# are too large they could be split in advance to smaller files or use the Fixed\n",
    "# reader to split up the file.\n",
    "image_reader = tf.WholeFileReader()\n",
    "\n",
    "# Read a whole file from the queue, the first returned value in the tuple is the\n",
    "# filename which we are ignoring.\n",
    "_, image_file = image_reader.read(filename_queue)\n",
    "\n",
    "# Decode the image as a JPEG file, this will turn it into a Tensor which we can\n",
    "# then use in training.\n",
    "image = tf.image.decode_jpeg(image_file)\n",
    "\n",
    "# Start a new session to show example output.\n",
    "with tf.Session() as sess:\n",
    "    tf.initialize_all_variables().run()                        # Required to get the filename matching to run.\n",
    "    coord = tf.train.Coordinator()                             # Coordinate the loading of image files.\n",
    "    threads = tf.train.start_queue_runners(coord=coord)        # Get an image tensor and print its value.\n",
    "    \n",
    "    image_tensor = sess.run([image])\n",
    "    print(image_tensor)\n",
    "   \n",
    "    # Finish off the filename queue coordinator.\n",
    "    coord.request_stop()\n",
    "    coord.join(threads)"
   ]
  }
 ],
 "metadata": {
  "kernelspec": {
   "display_name": "Python 3",
   "language": "python",
   "name": "python3"
  },
  "language_info": {
   "codemirror_mode": {
    "name": "ipython",
    "version": 3
   },
   "file_extension": ".py",
   "mimetype": "text/x-python",
   "name": "python",
   "nbconvert_exporter": "python",
   "pygments_lexer": "ipython3",
   "version": "3.6.8"
  }
 },
 "nbformat": 4,
 "nbformat_minor": 2
}
