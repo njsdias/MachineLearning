{
 "cells": [
  {
   "cell_type": "markdown",
   "metadata": {},
   "source": [
    "**Reading information from disk**\n",
    "\n",
    "TensorFlow reads a number of the most standard formats, including \n",
    "\n",
    "- CSV\n",
    "- image files (JPG and PNG decoders)\n",
    "- TensorFlow files format.\n",
    "\n",
    "**Tabulated formats - CSV**: For reading the well-known CSV format, TensorFlow has its own methods. In comparison\n",
    "with other libraries, such as pandas, the process to read a simple CSV file is somewhat more\n",
    "complicated.\n",
    "\n",
    "The reading of a CSV file requires a couple of the previous steps. First, we must **create a\n",
    "filename queue object** with the list of files we'll be using, and then **create a TextLineReader.**\n",
    "With this line reader, the remaining operation will be **to decode the CSV columns, and save it\n",
    "on tensors.** If we want to mix homogeneous data together, the pack method will work.\n",
    "\n",
    "**Example: The Iris dataset**\n",
    "The data set consists of 50 samples from each of three species of Iris (Iris setosa, Iris\n",
    "virginica, and Iris versicolor). Four features were measured in each sample: the length and the\n",
    "width of the sepals and petals, in centimeters. Based on the combination of these four features,\n",
    "Fisher developed a linear discriminant model to distinguish the species from each other.\n",
    "In order to read the CSV file, you will have to download it and put it in the same directory as\n",
    "where the Python executable is running.\n",
    "In the following code sample, we'll be reading and printing the first five records from the\n",
    "well-known Iris database:\n"
   ]
  },
  {
   "cell_type": "code",
   "execution_count": 1,
   "metadata": {},
   "outputs": [],
   "source": [
    "import tensorflow as tf\n",
    "import numpy as np\n",
    "import os"
   ]
  },
  {
   "cell_type": "code",
   "execution_count": 13,
   "metadata": {},
   "outputs": [
    {
     "name": "stdout",
     "output_type": "stream",
     "text": [
      "[array([4.9, 3. , 1.4, 0.2], dtype=float32)]\n",
      "[array([4.7, 3.2, 1.3, 0.2], dtype=float32)]\n",
      "[array([4.6, 3.1, 1.5, 0.2], dtype=float32)]\n",
      "[array([5. , 3.6, 1.4, 0.2], dtype=float32)]\n",
      "[array([5.4, 3.9, 1.7, 0.4], dtype=float32)]\n"
     ]
    }
   ],
   "source": [
    "# Initialize\n",
    "init = tf.global_variables_initializer()\n",
    "sess = tf.Session()\n",
    "sess.run(init)\n",
    "\n",
    "filename_queue = tf.train.string_input_producer([\"./data/iris.csv\"])\n",
    "\n",
    "reader = tf.TextLineReader(skip_header_lines=1)\n",
    "\n",
    "key, value = reader.read(filename_queue)\n",
    "\n",
    "record_defaults = [[0.], [0.], [0.], [0.], [\"\"]]\n",
    "# Default values, in case of empty columns. Also specifies the type of the decoded result.\n",
    "# Convert CSV records to tensors. Each column maps to one tensor.\n",
    "col1, col2, col3, col4, col5 = tf.decode_csv(value,record_defaults=record_defaults) \n",
    "\n",
    "features = tf.stack([col1, col2, col3, col4])  # Stack four columns into one tensor as the input.\n",
    "#tf.initialize_all_variables().run(session=sess)\n",
    "coord = tf.train.Coordinator()\n",
    "threads = tf.train.start_queue_runners(coord=coord, sess=sess)\n",
    "\n",
    "\n",
    "example= sess.run([features,col3])            #Read one instance (one line of data only). \"example\" is an array.\n",
    "batch_x=np.array([example[0]], np.float32)    #Convert the first element of the array (features) into nparray.\n",
    "batch_y=np.array([example[1]], np.float32)\n",
    "\n",
    "for iteration in range(0,5):\n",
    "    # Retrieve a single instance:\n",
    "    example= sess.run([features])\n",
    "    print(example)\n",
    "    coord.request_stop()\n",
    "    coord.join(threads)\n",
    "sess.close()"
   ]
  }
 ],
 "metadata": {
  "kernelspec": {
   "display_name": "Python 3",
   "language": "python",
   "name": "python3"
  },
  "language_info": {
   "codemirror_mode": {
    "name": "ipython",
    "version": 3
   },
   "file_extension": ".py",
   "mimetype": "text/x-python",
   "name": "python",
   "nbconvert_exporter": "python",
   "pygments_lexer": "ipython3",
   "version": "3.6.8"
  }
 },
 "nbformat": 4,
 "nbformat_minor": 2
}
