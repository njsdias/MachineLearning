{
 "cells": [
  {
   "cell_type": "markdown",
   "metadata": {},
   "source": [
    "**Basic Tensor Methods**\n",
    "\n",
    "This basic methods supported by TensorFlow. They are useful for initial data exploration and for preparing the\n",
    "data for better parallel computation."
   ]
  },
  {
   "cell_type": "markdown",
   "metadata": {},
   "source": [
    "**Simple matrix operations**\n",
    "\n",
    "TensorFlow supports many of the more common matrix operations, such as transpose, multiplication, getting the determinant, and inverse.\n",
    "Some little example of those functions applied to sample data"
   ]
  },
  {
   "cell_type": "code",
   "execution_count": 18,
   "metadata": {},
   "outputs": [
    {
     "name": "stdout",
     "output_type": "stream",
     "text": [
      "transpose \n",
      " [[ 2  0  4  6]\n",
      " [ 5  3  3  1]\n",
      " [ 3 -2  5  4]\n",
      " [-5  5  3  0]]\n",
      "multiplication \n",
      " [[ 39 -10 -46  -8  45]\n",
      " [ 19  31   0  35  23]\n",
      " [ 47  14  20  20  63]\n",
      " [ 38 -26  25 -10  47]]\n",
      "inverse \n",
      " 817.9997\n",
      "solve a system of equations \n",
      " [[ 0.202934  ]\n",
      " [ 0.21271393]\n",
      " [-0.10757945]\n",
      " [ 0.02933985]]\n"
     ]
    }
   ],
   "source": [
    "import tensorflow as tf \n",
    "\n",
    "sess = tf.InteractiveSession()                                                  # Initialize the Session Object\n",
    "\n",
    "x = tf.constant([[2, 5, 3, -5], \n",
    "                 [0, 3,-2,  5], \n",
    "                 [4, 3, 5,  3], \n",
    "                 [6, 1, 4,  0]]) \n",
    "                 \n",
    "y = tf.constant([[4, -7, 4, -3, 4], \n",
    "                 [6, 4,-7,  4, 7], \n",
    "                 [2, 3, 2,  1, 4], \n",
    "                 [1, 5, 5,  5, 2]])\n",
    "\n",
    "floatx = tf.constant([[2., 5., 3., -5.], \n",
    "                      [0., 3.,-2.,  5.], \n",
    "                      [4., 3., 5.,  3.], \n",
    "                      [6., 1., 4.,  0.]]) \n",
    "                 \n",
    "trans = tf.transpose(x).eval()                                                  # Transpose matrix\n",
    "mult = tf.matmul(x, y).eval()                                                   # Matrix multiplication\n",
    "det = tf.matrix_determinant(floatx).eval()                                      # Matrix determinant\n",
    "inv = tf.matrix_inverse(floatx).eval()                                          # Matrix inverse\n",
    "calc = tf.matrix_solve(floatx, [[1],[1],[1],[1]]).eval()                        # Solve Matrix system\n",
    "\n",
    "print('transpose','\\n',trans)\n",
    "print('multiplication','\\n',mult)\n",
    "print('inverse','\\n',det)\n",
    "print('solve a system of equations','\\n',calc)"
   ]
  },
  {
   "cell_type": "markdown",
   "metadata": {},
   "source": [
    "**Reduction**\n",
    "\n",
    "Reduction is an operation that applies an operation across one of the tensor's dimensions,\n",
    "leaving it with one less dimension.\n",
    "\n",
    "The supported operations include (with the same parameters) product, minimum, maximum,\n",
    "mean, all, any, and accumulate_n)."
   ]
  },
  {
   "cell_type": "code",
   "execution_count": 19,
   "metadata": {},
   "outputs": [
    {
     "name": "stdout",
     "output_type": "stream",
     "text": [
      "product of each row \n",
      " [ 6  6 -6]\n",
      "minimum of each row \n",
      " [ 1  1 -3]\n",
      "maximum of each row \n",
      " [ 3  3 -1]\n",
      "mean of each row \n",
      " [ 2  2 -2]\n",
      "all \n",
      " [False False False]\n",
      "any \n",
      " [ True  True  True]\n"
     ]
    }
   ],
   "source": [
    "x = tf.constant([[1,  2, 3], \n",
    "                 [3,  2, 1], \n",
    "                 [-1,-2,-3]])\n",
    "                 \n",
    "boolean_tensor = tf.constant([[True,  False, True], \n",
    "                              [False, False, True],\n",
    "                              [True, False, False]])    \n",
    "            \n",
    "product = tf.reduce_prod(x, reduction_indices=1).eval()                         # reduce prod\n",
    "minimum = tf.reduce_min(x, reduction_indices=1).eval()                          # reduce min\n",
    "maximum = tf.reduce_max(x, reduction_indices=1).eval()                          # reduce max\n",
    "mean = tf.reduce_mean(x, reduction_indices=1).eval()                            # reduce mean\n",
    "allred = tf.reduce_all(boolean_tensor, reduction_indices=1).eval()              # reduce all \n",
    "anyred = tf.reduce_any(boolean_tensor, reduction_indices=1).eval()              # reduce any\n",
    "\n",
    "print('product of each row','\\n',product)\n",
    "print('minimum of each row','\\n',minimum)\n",
    "print('maximum of each row','\\n',maximum)\n",
    "print('mean of each row','\\n',mean)\n",
    "print('all','\\n',allred)\n",
    "print('any','\\n',anyred)"
   ]
  },
  {
   "cell_type": "markdown",
   "metadata": {},
   "source": [
    "**Tensor segmentation**\n",
    "Tensor segmentation is a process in which **one of the dimensions is reduced**, and **the resulting\n",
    "elements are determined by an index row**. If some elements in the row are repeated, the\n",
    "corresponding index goes to the value in it, and the operation is applied between the indexes\n",
    "with repeated indexes.\n",
    "\n",
    "The index array size should be the same as the size of dimension 0 of the index array, and they must increase by one.\n",
    "<img src=\"tensorseg.JPG\">"
   ]
  },
  {
   "cell_type": "code",
   "execution_count": 21,
   "metadata": {},
   "outputs": [
    {
     "name": "stdout",
     "output_type": "stream",
     "text": [
      "segment_sum: Sum following index in columns \n",
      " [[ 2  5  3 -5]\n",
      " [ 4  6  3  8]\n",
      " [12  2  8  0]]\n",
      "segment_prod: Prod following index in columns \n",
      " [[  2   5   3  -5]\n",
      " [  0   9 -10  15]\n",
      " [ 36   1  16   0]]\n",
      "segment_min: Minimum following index in columns \n",
      " [[ 2  5  3 -5]\n",
      " [ 0  3 -2  3]\n",
      " [ 6  1  4  0]]\n",
      "segment_max: Maximum following index in columns \n",
      " [[ 2  5  3 -5]\n",
      " [ 4  3  5  5]\n",
      " [ 6  1  4  0]]\n",
      "segment_mean: Mean following index in columns \n",
      " [[ 2  5  3 -5]\n",
      " [ 2  3  1  4]\n",
      " [ 6  1  4  0]]\n"
     ]
    }
   ],
   "source": [
    "seg_ids = tf.constant([0,1,1,2,2]);                            # Group indexes : 0|1,2|3,4\n",
    "\n",
    "tens1 = tf.constant([[2, 5, 3, -5],  \n",
    "                    [0, 3,-2,  5], \n",
    "                    [4, 3, 5,  3], \n",
    "                    [6, 1, 4,  0],\n",
    "                    [6, 1, 4,  0]])                            # A sample constant matrix\n",
    "\n",
    "segsum = tf.segment_sum(tens1, seg_ids).eval()                 # Sum segmentation\n",
    "segprod = tf.segment_prod(tens1, seg_ids).eval()               # Product segmentation\n",
    "segmin = tf.segment_min(tens1, seg_ids).eval()                 # minimun value goes to group\n",
    "segmax = tf.segment_max(tens1, seg_ids).eval()                 # maximum value goes to group\n",
    "segmean = tf.segment_mean(tens1, seg_ids).eval()               # mean value goes to group\n",
    "\n",
    "print('segment_sum: Sum following index in columns','\\n',segsum)\n",
    "print('segment_prod: Prod following index in columns','\\n',segprod)\n",
    "print('segment_min: Minimum following index in columns','\\n',segmin)\n",
    "print('segment_max: Maximum following index in columns','\\n',segmax)\n",
    "print('segment_mean: Mean following index in columns','\\n',segmean)\n"
   ]
  },
  {
   "cell_type": "markdown",
   "metadata": {},
   "source": [
    "**Sequences**\n",
    "\n",
    "Sequence utilities include methods such as:\n",
    "\n",
    "- **argmin** : showing the minimum of a dimension\n",
    "- **argmax** : showing the minimum of a dimension\n",
    "- **listdiff** : showing the complement of the intersection between lists\n",
    "- **where** : showing the index of the true values on a tensor\n",
    "- **unique** : showing unique values on a list"
   ]
  },
  {
   "cell_type": "code",
   "execution_count": 34,
   "metadata": {},
   "outputs": [
    {
     "name": "stdout",
     "output_type": "stream",
     "text": [
      "Position of Minimum of the row \n",
      " [3 2 1 3]\n",
      "Position of Maximum of the row \n",
      " [1 3 2 0]\n",
      "Differences among lists \n",
      " [1 2 3 6 7]\n",
      "Unique values of a list \n",
      " [1 2 3 4 5 6 7 8]\n"
     ]
    }
   ],
   "source": [
    "### defining variables\n",
    "x = tf.constant([[2, 5, 3, -5], \n",
    "                 [0, 3,-2,  5], \n",
    "                 [4, 3, 5,  3], \n",
    "                 [6, 1, 4,  0]]) \n",
    "listx = tf.constant([1,2,3,4,5,6,7,8])\n",
    "listy = tf.constant([4,5,8,9])\n",
    "\n",
    "boolx = tf.constant([[True,False], [False,True]])\n",
    "\n",
    "\n",
    "minrow = tf.argmin(x, 1).eval()                          # Position of the minimum value of rows\n",
    "maxrow = tf.argmax(x, 1).eval()                          # Position of the maximum value of rows\n",
    "difflist = tf.setdiff1d(listx, listy)[0].eval()          # List differences\n",
    "trueval = tf.where(boolx).eval()                         # Show true values\n",
    "uniqval = tf.unique(listx)[0].eval()                     # Unique values in list\n",
    "\n",
    "#output = tf.gather(minrow, 0).eval()\n",
    "\n",
    "print('Position of Minimum of the row','\\n',minrow)\n",
    "print('Position of Maximum of the row','\\n',maxrow)\n",
    "print('Differences among lists','\\n',difflist)\n",
    "print('Unique values of a list','\\n',uniqval)\n",
    "\n",
    "#print('output',output)\n",
    "\n"
   ]
  },
  {
   "cell_type": "markdown",
   "metadata": {},
   "source": [
    "**Tensor shape transformations**\n",
    "\n",
    "These kinds of functions are related to a **matrix shape**. They are used to adjust unmatched data\n",
    "structures and to retrieve quick information about the measures of data. This can be useful\n",
    "when deciding a processing strategy at runtime.\n",
    "In the following examples, we will start with a rank two tensor and will print some\n",
    "information about it.\n",
    "Then we'll explore the **operations that modify the matrix dimensionally**, be it:\n",
    "\n",
    "- adding \n",
    "- removing dimensions: squeeze and expand_dims"
   ]
  },
  {
   "cell_type": "code",
   "execution_count": 38,
   "metadata": {},
   "outputs": [
    {
     "name": "stdout",
     "output_type": "stream",
     "text": [
      "Shape of the tensor \n",
      " [4 4]\n",
      "size of the tensor \n",
      " 16\n",
      "rank of the tensor \n",
      " 2\n",
      "converting to a 10x2 matrix \n",
      " [[ 2  5]\n",
      " [ 3 -5]\n",
      " [ 0  3]\n",
      " [-2  5]\n",
      " [ 4  3]\n",
      " [ 5  3]\n",
      " [ 6  1]\n",
      " [ 4  0]]\n",
      "squeezing \n",
      " [[ 2  5  3 -5]\n",
      " [ 0  3 -2  5]\n",
      " [ 4  3  5  3]\n",
      " [ 6  1  4  0]]\n",
      "Expanding dims \n",
      " [[[ 2  5  3 -5]]\n",
      "\n",
      " [[ 0  3 -2  5]]\n",
      "\n",
      " [[ 4  3  5  3]]\n",
      "\n",
      " [[ 6  1  4  0]]]\n"
     ]
    }
   ],
   "source": [
    "shtens = tf.shape(x).eval()                      # Shape of the tensor\n",
    "sztens = tf.size(x).eval()                       # size of the tensor\n",
    "rktens = tf.rank(x).eval()                       # rank of the tensor\n",
    "reshtens = tf.reshape(x, [8, 2]).eval()          # converting to a 8x2 matrix\n",
    "sqtens = tf.squeeze(x).eval()                    # squeezing\n",
    "exptens = tf.expand_dims(x,1).eval()             # Expanding dims\n",
    "\n",
    "print('Shape of the tensor','\\n',shtens)\n",
    "print('size of the tensor','\\n',sztens)\n",
    "print('rank of the tensor','\\n',rktens)\n",
    "print('converting to a 10x2 matrix','\\n',reshtens)\n",
    "print('squeezing','\\n',sqtens)\n",
    "print('Expanding dims','\\n',exptens)"
   ]
  },
  {
   "cell_type": "markdown",
   "metadata": {},
   "source": [
    "**Tensor slicing and joining**\n",
    "\n",
    "In order to extract and merge useful information from big datasets, the slicing and joining\n",
    "methods allow you to consolidate the required column information **without having to occupy\n",
    "memory space with nonspecific information.**\n",
    "In the following examples, we'll extract matrix:\n",
    "\n",
    "- slices, \n",
    "- split them\n",
    "- add padding\n",
    "- pack and unpack rows"
   ]
  },
  {
   "cell_type": "code",
   "execution_count": 42,
   "metadata": {},
   "outputs": [],
   "source": [
    "t_matrix = tf.constant([[1,2,3],\n",
    "                        [4,5,6],\n",
    "                        [7,8,9]])\n",
    "\n",
    "t_array = tf.constant([1,2,3,4,9,8,6,5])\n",
    "t_array2= tf.constant([2,3,4,5,6,7,8,9])"
   ]
  },
  {
   "cell_type": "code",
   "execution_count": 92,
   "metadata": {},
   "outputs": [
    {
     "name": "stdout",
     "output_type": "stream",
     "text": [
      "Length of array\n",
      "2\n",
      "2\n",
      "Shape of array before split\n",
      "(8,)\n",
      "Shape of array after split\n",
      "[4]\n",
      "(4,)\n",
      "Tile \n",
      " [1 2 1 2 1 2]\n",
      "Pad \n",
      " [[0 0 1 2 3 0]\n",
      " [0 0 4 5 6 0]\n",
      " [0 0 7 8 9 0]\n",
      " [0 0 0 0 0 0]]\n",
      "Concactenation of two arrays \n",
      " [1 2 3 4 9 8 6 5 2 3 4 5 6 7 8 9]\n",
      "Reverse of Matrix \n",
      " [[9 8 7]\n",
      " [6 5 4]\n",
      " [3 2 1]]\n",
      "Stack of Matrix \n",
      " [[1 2 3 4 9 8 6 5]\n",
      " [2 3 4 5 6 7 8 9]]\n",
      "Unstack of Matrix  \n",
      " [array([1, 2, 3]), array([4, 5, 6]), array([7, 8, 9])]\n"
     ]
    }
   ],
   "source": [
    "tf.slice(t_matrix, [1, 1], [2,2]).eval()                # cutting an slice\n",
    "#tf.split(0, 2, t_array)                                # splitting the array in two\n",
    "splt = tf.split(t_array,2,0)                            # splitting for new version of TensorFlow\n",
    "splt_shape = tf.shape(splt[1])\n",
    "\n",
    "X_v,Y_v,Y_shape_v = sess.run([t_array,splt,splt_shape])\n",
    "\n",
    "print('Length of array')\n",
    "print(len(Y_v)) , print(len(splt))\n",
    "print('Shape of array before split')\n",
    "print(X_v.shape)\n",
    "print('Shape of array after split')\n",
    "print(Y_shape_v) ,print(Y_v[1].shape)\n",
    "\n",
    "tile = tf.tile([1,2],[3]).eval()                          # tiling this little tensor 3 times\n",
    "pad = tf.pad(t_matrix, [[0,1],[2,1]]).eval()              # padding\n",
    "\n",
    "print('Tile','\\n',tile)\n",
    "print('Pad','\\n',pad)\n",
    "\n",
    "conc = tf.concat([t_array, t_array2], 0).eval()           # concatenating list for new version of TensorFlow\n",
    "print('Concactenation of two arrays','\\n',conc)\n",
    "\n",
    "revmat = tf.reverse(t_matrix, [False,True]).eval()        # Reverse matrix\n",
    "print('Reverse of Matrix','\\n',revmat)\n",
    "\n",
    "#tf.pack([t_array, t_array2]).eval()                      # packing\n",
    "pack = tf.stack([t_array, t_array2],0).eval()                    # Packing is deprecated and it was replaced by Stack\n",
    "print('Stack of Matrix','\\n',pack)\n",
    "\n",
    "#sess.run(tf.unpack(t_matrix))                            # Unpacking, we need the run method to view the tensors\n",
    "sess.run(tf.unstack(t_matrix))                            # Unpacking is deprecated and it was replaced by Unstack\n",
    "print('Unstack of Matrix ','\\n',sess.run(tf.unstack(t_matrix)))"
   ]
  }
 ],
 "metadata": {
  "kernelspec": {
   "display_name": "Python 3",
   "language": "python",
   "name": "python3"
  },
  "language_info": {
   "codemirror_mode": {
    "name": "ipython",
    "version": 3
   },
   "file_extension": ".py",
   "mimetype": "text/x-python",
   "name": "python",
   "nbconvert_exporter": "python",
   "pygments_lexer": "ipython3",
   "version": "3.6.8"
  }
 },
 "nbformat": 4,
 "nbformat_minor": 2
}
