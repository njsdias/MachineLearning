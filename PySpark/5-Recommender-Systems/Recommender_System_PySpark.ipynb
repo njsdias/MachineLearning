{
 "cells": [
  {
   "cell_type": "markdown",
   "metadata": {},
   "source": [
    "# Recommender System\n",
    "\n",
    "This code focuses on building an RS from scratch using\n",
    "the Alternating Least squares (ALS) method in PySpark and Jupyter Notebook.\n",
    "\n",
    "The ALS is used in the Latent Factor Based CF. This have the follow limitations:\n",
    "    \n",
    "    1- Cold Start Problem\n",
    "    2- Missing values\n",
    "    3- Cannot recommend new or unrated items\n",
    "    4- Poor Accuracy\n",
    "\n",
    "The dataset that we are going to use for this chapter is a subset from\n",
    "a famous open sourced movie lens dataset and contains a total of 0.1\n",
    "million records with three columns (User_Id,title,rating). We will train our\n",
    "recommender model using 75% of the data and test it on the rest of the\n",
    "25% user ratings."
   ]
  },
  {
   "cell_type": "code",
   "execution_count": 30,
   "metadata": {},
   "outputs": [],
   "source": [
    "import os\n",
    "os.environ[\"PYSPARK_SUBMIT_ARGS\"] = \"--master local[*] pyspark-shell\"\n",
    "\n",
    "import findspark\n",
    "findspark.init()\n",
    "\n",
    "import pyspark\n",
    "#import SparkSession\n",
    "from pyspark.sql import SparkSession"
   ]
  },
  {
   "cell_type": "code",
   "execution_count": 31,
   "metadata": {},
   "outputs": [],
   "source": [
    "#import and create sparksession object\n",
    "from pyspark.sql import SparkSession \n",
    "spark=SparkSession.builder.appName('rc').getOrCreate()"
   ]
  },
  {
   "cell_type": "code",
   "execution_count": 32,
   "metadata": {},
   "outputs": [],
   "source": [
    "#import the required functions and libraries\n",
    "from pyspark.sql.functions import *"
   ]
  },
  {
   "cell_type": "code",
   "execution_count": 33,
   "metadata": {},
   "outputs": [],
   "source": [
    "#load the dataset and create sprk dataframe\n",
    "df=spark.read.csv('movie_ratings_df.csv',inferSchema=True,header=True)"
   ]
  },
  {
   "cell_type": "code",
   "execution_count": 34,
   "metadata": {},
   "outputs": [
    {
     "name": "stdout",
     "output_type": "stream",
     "text": [
      "(100000, 3)\n"
     ]
    }
   ],
   "source": [
    "#validate the shape of the data \n",
    "print((df.count(),len(df.columns)))"
   ]
  },
  {
   "cell_type": "code",
   "execution_count": 35,
   "metadata": {},
   "outputs": [
    {
     "name": "stdout",
     "output_type": "stream",
     "text": [
      "root\n",
      " |-- userId: integer (nullable = true)\n",
      " |-- title: string (nullable = true)\n",
      " |-- rating: integer (nullable = true)\n",
      "\n"
     ]
    }
   ],
   "source": [
    "#check columns in dataframe\n",
    "df.printSchema()"
   ]
  },
  {
   "cell_type": "code",
   "execution_count": 36,
   "metadata": {},
   "outputs": [
    {
     "name": "stdout",
     "output_type": "stream",
     "text": [
      "+------+-----------------------------------------+------+\n",
      "|userId|title                                    |rating|\n",
      "+------+-----------------------------------------+------+\n",
      "|775   |Desperate Measures (1998)                |3     |\n",
      "|319   |Air Bud (1997)                           |3     |\n",
      "|125   |Naked Gun 33 1/3: The Final Insult (1994)|3     |\n",
      "|412   |Highlander (1986)                        |4     |\n",
      "|5     |Forrest Gump (1994)                      |1     |\n",
      "|303   |Billy Madison (1995)                     |5     |\n",
      "|495   |Demolition Man (1993)                    |3     |\n",
      "|101   |Rumble in the Bronx (1995)               |4     |\n",
      "|452   |Killing Fields, The (1984)               |4     |\n",
      "|627   |How to Make an American Quilt (1995)     |2     |\n",
      "+------+-----------------------------------------+------+\n",
      "only showing top 10 rows\n",
      "\n"
     ]
    }
   ],
   "source": [
    "#validate few rows of dataframe in random order\n",
    "df.orderBy(rand()).show(10,False)"
   ]
  },
  {
   "cell_type": "markdown",
   "metadata": {},
   "source": [
    "The user with the highest number of records has rated 737 movies, and\n",
    "each user has rated at least 20 movies."
   ]
  },
  {
   "cell_type": "code",
   "execution_count": 37,
   "metadata": {},
   "outputs": [
    {
     "name": "stdout",
     "output_type": "stream",
     "text": [
      "+------+-----+\n",
      "|userId|count|\n",
      "+------+-----+\n",
      "|405   |737  |\n",
      "|655   |685  |\n",
      "|13    |636  |\n",
      "|450   |540  |\n",
      "|276   |518  |\n",
      "|416   |493  |\n",
      "|537   |490  |\n",
      "|303   |484  |\n",
      "|234   |480  |\n",
      "|393   |448  |\n",
      "+------+-----+\n",
      "only showing top 10 rows\n",
      "\n"
     ]
    }
   ],
   "source": [
    "#check number of ratings by each user\n",
    "df.groupBy('userId').count().orderBy('count',ascending=False).show(10,False)"
   ]
  },
  {
   "cell_type": "code",
   "execution_count": 38,
   "metadata": {},
   "outputs": [
    {
     "name": "stdout",
     "output_type": "stream",
     "text": [
      "+------+-----+\n",
      "|userId|count|\n",
      "+------+-----+\n",
      "|732   |20   |\n",
      "|636   |20   |\n",
      "|572   |20   |\n",
      "|685   |20   |\n",
      "|631   |20   |\n",
      "|34    |20   |\n",
      "|926   |20   |\n",
      "|596   |20   |\n",
      "|300   |20   |\n",
      "|93    |20   |\n",
      "+------+-----+\n",
      "only showing top 10 rows\n",
      "\n"
     ]
    }
   ],
   "source": [
    "#check number of ratings by each user\n",
    "df.groupBy('userId').count().orderBy('count',ascending=True).show(10,False)"
   ]
  },
  {
   "cell_type": "code",
   "execution_count": 39,
   "metadata": {},
   "outputs": [
    {
     "name": "stdout",
     "output_type": "stream",
     "text": [
      "+-----------------------------+-----+\n",
      "|title                        |count|\n",
      "+-----------------------------+-----+\n",
      "|Star Wars (1977)             |583  |\n",
      "|Contact (1997)               |509  |\n",
      "|Fargo (1996)                 |508  |\n",
      "|Return of the Jedi (1983)    |507  |\n",
      "|Liar Liar (1997)             |485  |\n",
      "|English Patient, The (1996)  |481  |\n",
      "|Scream (1996)                |478  |\n",
      "|Toy Story (1995)             |452  |\n",
      "|Air Force One (1997)         |431  |\n",
      "|Independence Day (ID4) (1996)|429  |\n",
      "+-----------------------------+-----+\n",
      "only showing top 10 rows\n",
      "\n"
     ]
    }
   ],
   "source": [
    "#number of times movie been rated \n",
    "df.groupBy('title').count().orderBy('count',ascending=False).show(10,False)"
   ]
  },
  {
   "cell_type": "code",
   "execution_count": 40,
   "metadata": {},
   "outputs": [
    {
     "name": "stdout",
     "output_type": "stream",
     "text": [
      "+-----------------------------------------+-----+\n",
      "|title                                    |count|\n",
      "+-----------------------------------------+-----+\n",
      "|Leopard Son, The (1996)                  |1    |\n",
      "|Lashou shentan (1992)                    |1    |\n",
      "|Mad Dog Time (1996)                      |1    |\n",
      "|Fear, The (1995)                         |1    |\n",
      "|Aiqing wansui (1994)                     |1    |\n",
      "|Vie est belle, La (Life is Rosey) (1987) |1    |\n",
      "|Next Step, The (1995)                    |1    |\n",
      "|JLG/JLG - autoportrait de d�cembre (1994)|1    |\n",
      "|Modern Affair, A (1995)                  |1    |\n",
      "|Target (1995)                            |1    |\n",
      "+-----------------------------------------+-----+\n",
      "only showing top 10 rows\n",
      "\n"
     ]
    }
   ],
   "source": [
    "df.groupBy('title').count().orderBy('count',ascending=True).show(10,False)"
   ]
  },
  {
   "cell_type": "code",
   "execution_count": 41,
   "metadata": {},
   "outputs": [],
   "source": [
    "#import String indexer to convert string values to numeric values\n",
    "from pyspark.ml.feature import StringIndexer,IndexToString"
   ]
  },
  {
   "cell_type": "code",
   "execution_count": 42,
   "metadata": {},
   "outputs": [],
   "source": [
    "#creating string indexer to convert the movie title column values into numerical values\n",
    "stringIndexer = StringIndexer(inputCol=\"title\", outputCol=\"title_new\")"
   ]
  },
  {
   "cell_type": "code",
   "execution_count": 43,
   "metadata": {},
   "outputs": [],
   "source": [
    "#applying stringindexer object on dataframe movie title column\n",
    "model = stringIndexer.fit(df)"
   ]
  },
  {
   "cell_type": "code",
   "execution_count": 44,
   "metadata": {},
   "outputs": [],
   "source": [
    "#creating new dataframe with transformed values\n",
    "indexed = model.transform(df)"
   ]
  },
  {
   "cell_type": "code",
   "execution_count": 45,
   "metadata": {},
   "outputs": [
    {
     "name": "stdout",
     "output_type": "stream",
     "text": [
      "+------+------------+------+---------+\n",
      "|userId|       title|rating|title_new|\n",
      "+------+------------+------+---------+\n",
      "|   196|Kolya (1996)|     3|    287.0|\n",
      "|    63|Kolya (1996)|     3|    287.0|\n",
      "|   226|Kolya (1996)|     5|    287.0|\n",
      "|   154|Kolya (1996)|     3|    287.0|\n",
      "|   306|Kolya (1996)|     5|    287.0|\n",
      "|   296|Kolya (1996)|     4|    287.0|\n",
      "|    34|Kolya (1996)|     5|    287.0|\n",
      "|   271|Kolya (1996)|     4|    287.0|\n",
      "|   201|Kolya (1996)|     4|    287.0|\n",
      "|   209|Kolya (1996)|     4|    287.0|\n",
      "+------+------------+------+---------+\n",
      "only showing top 10 rows\n",
      "\n"
     ]
    }
   ],
   "source": [
    "#validate the numerical title values\n",
    "indexed.show(10)"
   ]
  },
  {
   "cell_type": "code",
   "execution_count": 59,
   "metadata": {},
   "outputs": [
    {
     "name": "stdout",
     "output_type": "stream",
     "text": [
      "+---------+-----------------------------+-----+\n",
      "|title_new|title                        |count|\n",
      "+---------+-----------------------------+-----+\n",
      "|0.0      |Star Wars (1977)             |583  |\n",
      "|1.0      |Contact (1997)               |509  |\n",
      "|2.0      |Fargo (1996)                 |508  |\n",
      "|3.0      |Return of the Jedi (1983)    |507  |\n",
      "|4.0      |Liar Liar (1997)             |485  |\n",
      "|5.0      |English Patient, The (1996)  |481  |\n",
      "|6.0      |Scream (1996)                |478  |\n",
      "|7.0      |Toy Story (1995)             |452  |\n",
      "|8.0      |Air Force One (1997)         |431  |\n",
      "|9.0      |Independence Day (ID4) (1996)|429  |\n",
      "+---------+-----------------------------+-----+\n",
      "only showing top 10 rows\n",
      "\n"
     ]
    }
   ],
   "source": [
    "#number of times each numerical movie title has been rated \n",
    "indexed.groupBy('title_new','title').count().orderBy('count',ascending=False).show(10,False)"
   ]
  },
  {
   "cell_type": "code",
   "execution_count": 47,
   "metadata": {},
   "outputs": [],
   "source": [
    "#split the data into training and test datatset\n",
    "train,test=indexed.randomSplit([0.75,0.25])"
   ]
  },
  {
   "cell_type": "code",
   "execution_count": 48,
   "metadata": {},
   "outputs": [
    {
     "data": {
      "text/plain": [
       "75185"
      ]
     },
     "execution_count": 48,
     "metadata": {},
     "output_type": "execute_result"
    }
   ],
   "source": [
    "#count number of records in train set\n",
    "train.count()"
   ]
  },
  {
   "cell_type": "code",
   "execution_count": 49,
   "metadata": {},
   "outputs": [
    {
     "data": {
      "text/plain": [
       "24815"
      ]
     },
     "execution_count": 49,
     "metadata": {},
     "output_type": "execute_result"
    }
   ],
   "source": [
    "#count number of records in test set\n",
    "test.count()"
   ]
  },
  {
   "cell_type": "code",
   "execution_count": 50,
   "metadata": {},
   "outputs": [],
   "source": [
    "#import ALS recommender function from pyspark ml library\n",
    "from pyspark.ml.recommendation import ALS"
   ]
  },
  {
   "cell_type": "markdown",
   "metadata": {},
   "source": [
    "There are multiple hyperparameters\n",
    "that can be tuned to improve the performance of the model. Two of the\n",
    "important ones are nonnegative =‘True’ doesn’t create negative ratings in\n",
    "recommendations and coldStartStrategy=‘drop’ to prevent any NaN ratings\n",
    "predictions."
   ]
  },
  {
   "cell_type": "code",
   "execution_count": 51,
   "metadata": {},
   "outputs": [],
   "source": [
    "#Training the recommender model using train datatset\n",
    "rec = ALS(maxIter=10,regParam=0.01,userCol='userId',itemCol='title_new',ratingCol='rating',nonnegative=True,coldStartStrategy=\"drop\")"
   ]
  },
  {
   "cell_type": "markdown",
   "metadata": {},
   "source": [
    "### Train the model"
   ]
  },
  {
   "cell_type": "code",
   "execution_count": 52,
   "metadata": {},
   "outputs": [],
   "source": [
    "#fit the model on train set\n",
    "rec_model = rec.fit(train)"
   ]
  },
  {
   "cell_type": "markdown",
   "metadata": {},
   "source": [
    "### Making Prediction"
   ]
  },
  {
   "cell_type": "code",
   "execution_count": 53,
   "metadata": {},
   "outputs": [],
   "source": [
    "#making predictions on test set \n",
    "predicted_ratings = rec_model.transform(test)"
   ]
  },
  {
   "cell_type": "code",
   "execution_count": 54,
   "metadata": {},
   "outputs": [
    {
     "name": "stdout",
     "output_type": "stream",
     "text": [
      "root\n",
      " |-- userId: integer (nullable = true)\n",
      " |-- title: string (nullable = true)\n",
      " |-- rating: integer (nullable = true)\n",
      " |-- title_new: double (nullable = false)\n",
      " |-- prediction: float (nullable = false)\n",
      "\n"
     ]
    }
   ],
   "source": [
    "#columns in predicted ratings dataframe\n",
    "predicted_ratings.printSchema()"
   ]
  },
  {
   "cell_type": "code",
   "execution_count": 55,
   "metadata": {},
   "outputs": [
    {
     "name": "stdout",
     "output_type": "stream",
     "text": [
      "+------+--------------------+------+---------+----------+\n",
      "|userId|               title|rating|title_new|prediction|\n",
      "+------+--------------------+------+---------+----------+\n",
      "|   489|       Mother (1996)|     3|    169.0|  4.785524|\n",
      "|   896|Air Up There, The...|     2|    983.0| 2.0463958|\n",
      "|   500| Pulp Fiction (1994)|     5|     12.0|  4.574325|\n",
      "|   267|        Alien (1979)|     4|     44.0|  4.698067|\n",
      "|   896|    GoldenEye (1995)|     3|    238.0| 3.2311964|\n",
      "|   188|        Speed (1994)|     4|     84.0| 4.4615808|\n",
      "|   437|Mrs. Doubtfire (1...|     3|    126.0| 3.5331366|\n",
      "|   833|Die Hard: With a ...|     2|    202.0| 2.2058969|\n",
      "|    21|Hunchback of Notr...|     3|    253.0|  3.456728|\n",
      "|   386|    Boot, Das (1981)|     5|    115.0| 4.6373873|\n",
      "+------+--------------------+------+---------+----------+\n",
      "only showing top 10 rows\n",
      "\n"
     ]
    }
   ],
   "source": [
    "#predicted vs actual ratings for test set \n",
    "predicted_ratings.orderBy(rand()).show(10)"
   ]
  },
  {
   "cell_type": "code",
   "execution_count": 56,
   "metadata": {},
   "outputs": [],
   "source": [
    "#importing Regression Evaluator to measure RMSE\n",
    "from pyspark.ml.evaluation import RegressionEvaluator"
   ]
  },
  {
   "cell_type": "code",
   "execution_count": 57,
   "metadata": {},
   "outputs": [],
   "source": [
    "#create Regressor evaluator object for measuring accuracy\n",
    "evaluator=RegressionEvaluator(metricName='rmse',predictionCol='prediction',labelCol='rating')"
   ]
  },
  {
   "cell_type": "code",
   "execution_count": 60,
   "metadata": {},
   "outputs": [],
   "source": [
    "#apply the RE on predictions dataframe to calculate RMSE\n",
    "rmse=evaluator.evaluate(predicted_ratings)"
   ]
  },
  {
   "cell_type": "markdown",
   "metadata": {},
   "source": [
    "The RMSE is not very high; we are making an error of one point in the\n",
    "actual rating and predicted rating. This can be improved further by tuning\n",
    "the model parameters and using the hybrid approach."
   ]
  },
  {
   "cell_type": "code",
   "execution_count": 61,
   "metadata": {},
   "outputs": [
    {
     "name": "stdout",
     "output_type": "stream",
     "text": [
      "1.0168526253947543\n"
     ]
    }
   ],
   "source": [
    "#print RMSE error\n",
    "print(rmse)"
   ]
  },
  {
   "cell_type": "code",
   "execution_count": null,
   "metadata": {},
   "outputs": [],
   "source": [
    "#Recommend top movies  which user might like "
   ]
  },
  {
   "cell_type": "code",
   "execution_count": 63,
   "metadata": {},
   "outputs": [],
   "source": [
    "#create dataset of all distinct movies \n",
    "unique_movies=indexed.select('title_new').distinct()"
   ]
  },
  {
   "cell_type": "code",
   "execution_count": 64,
   "metadata": {},
   "outputs": [
    {
     "data": {
      "text/plain": [
       "1664"
      ]
     },
     "execution_count": 64,
     "metadata": {},
     "output_type": "execute_result"
    }
   ],
   "source": [
    "#number of unique movies\n",
    "unique_movies.count()"
   ]
  },
  {
   "cell_type": "code",
   "execution_count": 66,
   "metadata": {},
   "outputs": [],
   "source": [
    "#assigning alias name 'a' to unique movies df\n",
    "a = unique_movies.alias('a')"
   ]
  },
  {
   "cell_type": "markdown",
   "metadata": {},
   "source": [
    "We can select any user within the dataset for which we need to\n",
    "recommend other movies. In our case, we go ahead with userId = 85. "
   ]
  },
  {
   "cell_type": "code",
   "execution_count": 67,
   "metadata": {},
   "outputs": [],
   "source": [
    "user_id=85"
   ]
  },
  {
   "cell_type": "markdown",
   "metadata": {},
   "source": [
    "We will filter the movies that this active user has already rated or seen."
   ]
  },
  {
   "cell_type": "code",
   "execution_count": 68,
   "metadata": {},
   "outputs": [],
   "source": [
    "#creating another dataframe which contains already watched movie by active user \n",
    "watched_movies=indexed.filter(indexed['userId'] == user_id).select('title_new').distinct()"
   ]
  },
  {
   "cell_type": "code",
   "execution_count": 69,
   "metadata": {},
   "outputs": [
    {
     "data": {
      "text/plain": [
       "287"
      ]
     },
     "execution_count": 69,
     "metadata": {},
     "output_type": "execute_result"
    }
   ],
   "source": [
    "#number of movies already rated \n",
    "watched_movies.count()"
   ]
  },
  {
   "cell_type": "code",
   "execution_count": 70,
   "metadata": {},
   "outputs": [],
   "source": [
    "#assigning alias name 'b' to watched movies df\n",
    "b=watched_movies.alias('b')"
   ]
  },
  {
   "cell_type": "markdown",
   "metadata": {},
   "source": [
    "So, there are total of 287 unique movies out of 1664 movies that this\n",
    "active user has already rated. So, we would want to recommend movies\n",
    "from the remaining 1377 items. We now combine both the tables (**LEFT JOIN**) to find\n",
    "the movies that we can recommend by filtering null values from the joined\n",
    "table."
   ]
  },
  {
   "cell_type": "code",
   "execution_count": 71,
   "metadata": {},
   "outputs": [],
   "source": [
    "#joining both tables on left join \n",
    "total_movies = a.join(b, a.title_new == b.title_new,how='left')\n"
   ]
  },
  {
   "cell_type": "code",
   "execution_count": 72,
   "metadata": {},
   "outputs": [
    {
     "name": "stdout",
     "output_type": "stream",
     "text": [
      "+---------+---------+\n",
      "|title_new|title_new|\n",
      "+---------+---------+\n",
      "|558.0    |null     |\n",
      "|305.0    |305.0    |\n",
      "|299.0    |null     |\n",
      "|596.0    |null     |\n",
      "|769.0    |null     |\n",
      "|934.0    |null     |\n",
      "|496.0    |496.0    |\n",
      "|1051.0   |null     |\n",
      "|692.0    |null     |\n",
      "|810.0    |null     |\n",
      "+---------+---------+\n",
      "only showing top 10 rows\n",
      "\n"
     ]
    }
   ],
   "source": [
    "total_movies.show(10,False)"
   ]
  },
  {
   "cell_type": "code",
   "execution_count": 73,
   "metadata": {},
   "outputs": [],
   "source": [
    "#selecting movies which active user is yet to rate or watch\n",
    "remaining_movies=total_movies.where(col(\"b.title_new\").isNull()).select(a.title_new).distinct()"
   ]
  },
  {
   "cell_type": "code",
   "execution_count": 74,
   "metadata": {},
   "outputs": [
    {
     "data": {
      "text/plain": [
       "1377"
      ]
     },
     "execution_count": 74,
     "metadata": {},
     "output_type": "execute_result"
    }
   ],
   "source": [
    "#number of movies user is yet to rate \n",
    "remaining_movies.count()"
   ]
  },
  {
   "cell_type": "code",
   "execution_count": 75,
   "metadata": {},
   "outputs": [],
   "source": [
    "#adding new column of user_Id of active useer to remaining movies df \n",
    "remaining_movies=remaining_movies.withColumn(\"userId\",lit(int(user_id)))"
   ]
  },
  {
   "cell_type": "code",
   "execution_count": 76,
   "metadata": {},
   "outputs": [
    {
     "name": "stdout",
     "output_type": "stream",
     "text": [
      "+---------+------+\n",
      "|title_new|userId|\n",
      "+---------+------+\n",
      "|558.0    |85    |\n",
      "|299.0    |85    |\n",
      "|596.0    |85    |\n",
      "|769.0    |85    |\n",
      "|934.0    |85    |\n",
      "|1051.0   |85    |\n",
      "|692.0    |85    |\n",
      "|810.0    |85    |\n",
      "|720.0    |85    |\n",
      "|782.0    |85    |\n",
      "+---------+------+\n",
      "only showing top 10 rows\n",
      "\n"
     ]
    }
   ],
   "source": [
    "remaining_movies.show(10,False)"
   ]
  },
  {
   "cell_type": "code",
   "execution_count": 77,
   "metadata": {},
   "outputs": [],
   "source": [
    "#making recommendations using ALS recommender model and selecting only top 'n' movies\n",
    "recommendations=rec_model.transform(remaining_movies).orderBy('prediction',ascending=False)"
   ]
  },
  {
   "cell_type": "code",
   "execution_count": 78,
   "metadata": {},
   "outputs": [
    {
     "name": "stdout",
     "output_type": "stream",
     "text": [
      "+---------+------+----------+\n",
      "|title_new|userId|prediction|\n",
      "+---------+------+----------+\n",
      "|1358.0   |85    |5.6179676 |\n",
      "|303.0    |85    |4.7003927 |\n",
      "|1030.0   |85    |4.640958  |\n",
      "|1470.0   |85    |4.6015687 |\n",
      "|1433.0   |85    |4.580033  |\n",
      "+---------+------+----------+\n",
      "only showing top 5 rows\n",
      "\n"
     ]
    }
   ],
   "source": [
    "recommendations.show(5,False)"
   ]
  },
  {
   "cell_type": "code",
   "execution_count": 79,
   "metadata": {},
   "outputs": [],
   "source": [
    "#converting title_new values back to movie titles\n",
    "movie_title = IndexToString(inputCol=\"title_new\", outputCol=\"title\",labels=model.labels)\n",
    "\n",
    "final_recommendations=movie_title.transform(recommendations)\n"
   ]
  },
  {
   "cell_type": "code",
   "execution_count": 80,
   "metadata": {},
   "outputs": [
    {
     "name": "stdout",
     "output_type": "stream",
     "text": [
      "+---------+------+----------+-----------------------------------------------+\n",
      "|title_new|userId|prediction|title                                          |\n",
      "+---------+------+----------+-----------------------------------------------+\n",
      "|1358.0   |85    |5.6179676 |Angel Baby (1995)                              |\n",
      "|303.0    |85    |4.7003927 |Close Shave, A (1995)                          |\n",
      "|1030.0   |85    |4.640958  |Braindead (1992)                               |\n",
      "|1470.0   |85    |4.6015687 |Some Mother's Son (1996)                       |\n",
      "|1433.0   |85    |4.580033  |Boys, Les (1997)                               |\n",
      "|853.0    |85    |4.5688143 |Naked (1993)                                   |\n",
      "|996.0    |85    |4.505178  |In the Bleak Midwinter (1995)                  |\n",
      "|540.0    |85    |4.49625   |39 Steps, The (1935)                           |\n",
      "|1005.0   |85    |4.4796925 |Haunted World of Edward D. Wood Jr., The (1995)|\n",
      "|1195.0   |85    |4.471673  |Pather Panchali (1955)                         |\n",
      "+---------+------+----------+-----------------------------------------------+\n",
      "only showing top 10 rows\n",
      "\n"
     ]
    }
   ],
   "source": [
    "final_recommendations.show(10,False)"
   ]
  },
  {
   "cell_type": "markdown",
   "metadata": {},
   "source": [
    "This can be nicely wrapped in a single function that\n",
    "executes the above steps in sequence and generates recommendations for\n",
    "active users"
   ]
  },
  {
   "cell_type": "code",
   "execution_count": 81,
   "metadata": {},
   "outputs": [],
   "source": [
    "#create function to recommend top 'n' movies to any particular user\n",
    "def top_movies(user_id,n):\n",
    "    \"\"\"\n",
    "    This function returns the top 'n' movies that user has not seen yet but might like \n",
    "    \n",
    "    \"\"\"\n",
    "    #assigning alias name 'a' to unique movies df\n",
    "    a = unique_movies.alias('a')\n",
    "    \n",
    "    #creating another dataframe which contains already watched movie by active user \n",
    "    watched_movies=indexed.filter(indexed['userId'] == user_id).select('title_new')\n",
    "    \n",
    "    #assigning alias name 'b' to watched movies df\n",
    "    b=watched_movies.alias('b')\n",
    "    \n",
    "    #joining both tables on left join \n",
    "    total_movies = a.join(b, a.title_new == b.title_new,how='left')\n",
    "    \n",
    "    #selecting movies which active user is yet to rate or watch\n",
    "    remaining_movies=total_movies.where(col(\"b.title_new\").isNull()).select(a.title_new).distinct()\n",
    "    \n",
    "    \n",
    "    #adding new column of user_Id of active useer to remaining movies df \n",
    "    remaining_movies=remaining_movies.withColumn(\"userId\",lit(int(user_id)))\n",
    "    \n",
    "    \n",
    "    #making recommendations using ALS recommender model and selecting only top 'n' movies\n",
    "    recommendations=rec_model.transform(remaining_movies).orderBy('prediction',ascending=False).limit(n)\n",
    "    \n",
    "    \n",
    "    #adding columns of movie titles in recommendations\n",
    "    movie_title = IndexToString(inputCol=\"title_new\", outputCol=\"title\",labels=model.labels)\n",
    "    final_recommendations=movie_title.transform(recommendations)\n",
    "    \n",
    "    #return the recommendations to active user\n",
    "    return final_recommendations.show(n,False)"
   ]
  },
  {
   "cell_type": "code",
   "execution_count": 82,
   "metadata": {},
   "outputs": [
    {
     "name": "stdout",
     "output_type": "stream",
     "text": [
      "+---------+------+----------+-----------------------------------------------+\n",
      "|title_new|userId|prediction|title                                          |\n",
      "+---------+------+----------+-----------------------------------------------+\n",
      "|1358.0   |85    |5.6179676 |Angel Baby (1995)                              |\n",
      "|303.0    |85    |4.7003927 |Close Shave, A (1995)                          |\n",
      "|1030.0   |85    |4.640958  |Braindead (1992)                               |\n",
      "|1470.0   |85    |4.6015687 |Some Mother's Son (1996)                       |\n",
      "|1433.0   |85    |4.580033  |Boys, Les (1997)                               |\n",
      "|853.0    |85    |4.5688143 |Naked (1993)                                   |\n",
      "|996.0    |85    |4.505178  |In the Bleak Midwinter (1995)                  |\n",
      "|540.0    |85    |4.49625   |39 Steps, The (1935)                           |\n",
      "|1005.0   |85    |4.4796925 |Haunted World of Edward D. Wood Jr., The (1995)|\n",
      "|1195.0   |85    |4.471673  |Pather Panchali (1955)                         |\n",
      "+---------+------+----------+-----------------------------------------------+\n",
      "\n"
     ]
    }
   ],
   "source": [
    "top_movies(85,10)"
   ]
  },
  {
   "cell_type": "code",
   "execution_count": null,
   "metadata": {},
   "outputs": [],
   "source": []
  }
 ],
 "metadata": {
  "kernelspec": {
   "display_name": "Python 3",
   "language": "python",
   "name": "python3"
  },
  "language_info": {
   "codemirror_mode": {
    "name": "ipython",
    "version": 3
   },
   "file_extension": ".py",
   "mimetype": "text/x-python",
   "name": "python",
   "nbconvert_exporter": "python",
   "pygments_lexer": "ipython3",
   "version": "3.7.0"
  }
 },
 "nbformat": 4,
 "nbformat_minor": 2
}
